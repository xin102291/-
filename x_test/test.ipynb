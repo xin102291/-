{
 "cells": [
  {
   "cell_type": "code",
   "execution_count": 2,
   "metadata": {},
   "outputs": [
    {
     "name": "stdout",
     "output_type": "stream",
     "text": [
      "CSV文件生成完成：health_report.csv\n"
     ]
    }
   ],
   "source": [
    "import csv\n",
    "import random\n",
    "\n",
    "# 假數據生成函數\n",
    "def generate_health_data(filename):\n",
    "    fieldnames = ['年份', '血壓(mmHg)', '心率(bpm)', '血糖(mmol/L)', 'BMI', '肝功能(ALT, U/L)', '血紅蛋白(g/dL)', '血小板計數(10^9/L)']\n",
    "    with open(filename, 'w', newline='',encoding=\"utf-8\") as csvfile:\n",
    "        writer = csv.DictWriter(csvfile, fieldnames=fieldnames)\n",
    "        writer.writeheader()\n",
    "\n",
    "        year = 1994\n",
    "        blood_pressure = [120, 80]\n",
    "        heart_rate = 70\n",
    "        blood_glucose = 5.2\n",
    "        bmi = 20\n",
    "        liver_function = 14.5\n",
    "        hemoglobin = 250\n",
    "        platelet_count = 250\n",
    "\n",
    "        for _ in range(30):\n",
    "            writer.writerow({\n",
    "                '年份': year,\n",
    "                '血壓(mmHg)': f\"{random.choice(blood_pressure)}/{random.choice(blood_pressure)}\",\n",
    "                '心率(bpm)': heart_rate,\n",
    "                '血糖(mmol/L)': blood_glucose,\n",
    "                'BMI': bmi,\n",
    "                '肝功能(ALT, U/L)': liver_function,\n",
    "                '血紅蛋白(g/dL)': hemoglobin,\n",
    "                '血小板計數(10^9/L)': platelet_count\n",
    "            })\n",
    "\n",
    "            year += 1\n",
    "            blood_pressure = [random.randint(110, 130), random.randint(70, 90)]\n",
    "            heart_rate += random.randint(-5, 5)\n",
    "            blood_glucose += random.uniform(-0.1, 0.1)\n",
    "            bmi += random.uniform(-1, 1)\n",
    "            liver_function += random.uniform(-0.1, 0.1)\n",
    "            hemoglobin += random.uniform(-1, 1)\n",
    "            platelet_count += random.uniform(-5, 5)\n",
    "\n",
    "# 生成假數據並保存為CSV文件\n",
    "generate_health_data('health_report.csv')\n",
    "print(\"CSV文件生成完成：health_report.csv\")"
   ]
  }
 ],
 "metadata": {
  "kernelspec": {
   "display_name": "Python 3",
   "language": "python",
   "name": "python3"
  },
  "language_info": {
   "codemirror_mode": {
    "name": "ipython",
    "version": 3
   },
   "file_extension": ".py",
   "mimetype": "text/x-python",
   "name": "python",
   "nbconvert_exporter": "python",
   "pygments_lexer": "ipython3",
   "version": "3.12.3"
  }
 },
 "nbformat": 4,
 "nbformat_minor": 2
}
