{
 "cells": [
  {
   "cell_type": "code",
   "execution_count": 5,
   "metadata": {},
   "outputs": [
    {
     "name": "stdout",
     "output_type": "stream",
     "text": [
      "010100010011001000110010001101000011001100111001001100000011011100110011000000000000000110010010110001010000000000000001010100011110101100000000000000010100110100010111\n"
     ]
    }
   ],
   "source": [
    "from key import *\n",
    "\n",
    "q = 999999937\n",
    "n = 3\n",
    "scale = 10000\n",
    "bound = 5\n",
    "A_size = 8\n",
    "B_size = 32\n",
    "sk_size = 12\n",
    "pw = \"551f4f0e70c07216c72b4e274b7cae76609d15d58d761e7c093a5338\"\n",
    "id = \"Q224390730\"\n",
    "(pk, sk) = asym_key(id, pw, n, q, bound, A_size, B_size, sk_size)\n",
    "print(pk)"
   ]
  }
 ],
 "metadata": {
  "kernelspec": {
   "display_name": "Python 3",
   "language": "python",
   "name": "python3"
  },
  "language_info": {
   "codemirror_mode": {
    "name": "ipython",
    "version": 3
   },
   "file_extension": ".py",
   "mimetype": "text/x-python",
   "name": "python",
   "nbconvert_exporter": "python",
   "pygments_lexer": "ipython3",
   "version": "3.12.3"
  }
 },
 "nbformat": 4,
 "nbformat_minor": 2
}
