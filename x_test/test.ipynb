{
 "cells": [
  {
   "cell_type": "code",
   "execution_count": 1,
   "metadata": {},
   "outputs": [
    {
     "name": "stdout",
     "output_type": "stream",
     "text": [
      "dAt86qAlUM1FTrb\n"
     ]
    }
   ],
   "source": [
    "import random\n",
    "import string\n",
    "pw = random_string = ''.join(random.choice(string.ascii_letters + string.digits) for _ in range(15))\n",
    "print(pw)"
   ]
  },
  {
   "cell_type": "code",
   "execution_count": 6,
   "metadata": {},
   "outputs": [
    {
     "name": "stdout",
     "output_type": "stream",
     "text": [
      "物品數據已保存到 items.json 文件中\n"
     ]
    }
   ],
   "source": [
    "import json\n",
    "\n",
    "# 定義多組物品的編號、pk和sk的值\n",
    "items = [\n",
    "    {\"id\": \"IOT1234567\", \n",
    "     \"pk\": \"010010010100111101010100001100010011001000110011001101000011010100110110001110111001100011010111011011110011101110011001100010001100110000111011100110010111010101110011\", \"sk\": \"110001101001111100110110110111101110\",\n",
    "     \"sk\":\"110001101001111100110110110111101110\"\n",
    "     }\n",
    "]\n",
    "\n",
    "# 指定文件名稱\n",
    "filename = \"items.json\"\n",
    "\n",
    "# 將多組數據寫入JSON文件\n",
    "with open(filename, \"w\") as file:\n",
    "    json.dump(items, file, indent=4)\n",
    "\n",
    "print(f\"物品數據已保存到 {filename} 文件中\")"
   ]
  },
  {
   "cell_type": "code",
   "execution_count": 7,
   "metadata": {},
   "outputs": [
    {
     "name": "stdout",
     "output_type": "stream",
     "text": [
      "找不到編號為 IOT1234561 的物品\n"
     ]
    }
   ],
   "source": [
    "# 初始化變數\n",
    "items = []\n",
    "\n",
    "# 從JSON文件中讀取數據\n",
    "with open(filename, \"r\") as file:\n",
    "    items = json.load(file)\n",
    "\n",
    "# 定義要查找的物品編號\n",
    "target_id = \"IOT1234561\"\n",
    "target_pk = None\n",
    "target_sk = None\n",
    "\n",
    "# 查找對應編號的物品pk\n",
    "for item in items:\n",
    "    if item[\"id\"] == target_id:\n",
    "        target_pk = item[\"pk\"]\n",
    "        target_sk = item[\"sk\"]\n",
    "        break\n",
    "\n",
    "if target_pk:\n",
    "    print(f\"編號為 {target_id} 的物品pk: {target_pk}\")\n",
    "else:\n",
    "    print(f\"找不到編號為 {target_id} 的物品\")"
   ]
  }
 ],
 "metadata": {
  "kernelspec": {
   "display_name": "Python 3",
   "language": "python",
   "name": "python3"
  },
  "language_info": {
   "codemirror_mode": {
    "name": "ipython",
    "version": 3
   },
   "file_extension": ".py",
   "mimetype": "text/x-python",
   "name": "python",
   "nbconvert_exporter": "python",
   "pygments_lexer": "ipython3",
   "version": "3.12.3"
  }
 },
 "nbformat": 4,
 "nbformat_minor": 2
}
