{
 "cells": [
  {
   "cell_type": "code",
   "execution_count": 1,
   "metadata": {},
   "outputs": [
    {
     "name": "stdout",
     "output_type": "stream",
     "text": [
      "Wrong format\n",
      "Wrong format\n",
      "Wrong format\n",
      "Wrong format\n",
      "Wrong format\n"
     ]
    }
   ],
   "source": [
    "'''\n",
    "https://zh.wikipedia.org/zh-tw/%E5%9B%BD%E9%99%85%E6%A0%87%E5%87%86%E4%B9%A6%E5%8F%B7#10_%E4%BD%8D\n",
    "\n",
    "'''\n",
    "\n",
    "\n",
    "from key import *\n",
    "from utils import *\n",
    "import numpy as np\n",
    "\n",
    "q = 999999937\n",
    "n = 3\n",
    "scale = 10000\n",
    "bound = 5\n",
    "A_size = 8\n",
    "B_size = 32\n",
    "sk_size = 12\n",
    "\n",
    "id = input(\"Enter the ID (10 letters): \")\n",
    "pw = input(\"Enter the password (8~15 letters): \")\n",
    "\n",
    "# 檢查 id 跟 pw 有沒有符合格式\n",
    "flag1 = 0 # id 是否為 10 碼\n",
    "flag2 = 0 # check number 是否正確\n",
    "flag3 = 0 # 密碼長度是否介於 8~10\n",
    "while 1:\n",
    "    # 檢查 id 長度\n",
    "    if len(id) == 10:\n",
    "        flag1 = 1\n",
    "    else:\n",
    "        flag1 = 0\n",
    "\n",
    "    # 若 id 長度符合，再檢查 check number\n",
    "    if flag1 == 1:\n",
    "        check = 0\n",
    "        for i in range(9):\n",
    "            check += ord(id[i]) * (10-i)\n",
    "        check %= 11\n",
    "        check = 11 - check\n",
    "        if check == 10:\n",
    "            check = ord('X')\n",
    "        else:\n",
    "            check += ord('0')\n",
    "\n",
    "        if check != ord(id[9]):\n",
    "            flag2 = 0\n",
    "        else:\n",
    "            flag2 = 1\n",
    "    # 若 id 跟 check number 正確，再檢查 pw\n",
    "    if flag1 == 1 and flag2 == 1:\n",
    "        if len(pw) < 8 or len(pw)>15:\n",
    "            flag3 = 0\n",
    "        else:\n",
    "            flag3 = 1\n",
    "    # 若 id, check number, pw 皆正確則跳出，否則跳出錯誤訊息並重新輸入\n",
    "    if flag1 == 1 and flag2 == 1 and flag3 == 1:\n",
    "        break\n",
    "    else:\n",
    "        print(\"The ID or password format is incorrect\")\n",
    "        id = input(\"Enter the ID (10 letters): \")\n",
    "        pw = input(\"Enter the password (8~15 letters): \")\n",
    "\n",
    "# 生成公私鑰\n",
    "print(\"This is your public key and private key.\")\n",
    "(pk, sk) = asym_key(id, pw, n, q, bound, A_size, B_size, sk_size)\n",
    "print(\"pk: \\n\", pk)\n",
    "print(\"sk:\\n\", sk)\n"
   ]
  }
 ],
 "metadata": {
  "kernelspec": {
   "display_name": "Python 3",
   "language": "python",
   "name": "python3"
  },
  "language_info": {
   "codemirror_mode": {
    "name": "ipython",
    "version": 3
   },
   "file_extension": ".py",
   "mimetype": "text/x-python",
   "name": "python",
   "nbconvert_exporter": "python",
   "pygments_lexer": "ipython3",
   "version": "3.12.3"
  }
 },
 "nbformat": 4,
 "nbformat_minor": 2
}
